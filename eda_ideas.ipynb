{
 "cells": [
  {
   "cell_type": "markdown",
   "id": "a1e9d48d-b976-4eaa-a406-102e7398994a",
   "metadata": {},
   "source": [
    "# Imports and Reading Data"
   ]
  },
  {
   "cell_type": "code",
   "execution_count": 1,
   "id": "21161458-d77e-42f9-ae1c-57198b34130c",
   "metadata": {},
   "outputs": [],
   "source": [
    "import pandas as pd\n",
    "import numpy as np\n",
    "import matplotlib.pylab as plt\n",
    "import seaborn as sns\n",
    "plt.style.use('ggplot')\n",
    "pd.set_option('max_columns', 200) #to show all the co"
   ]
  },
  {
   "cell_type": "code",
   "execution_count": null,
   "id": "cb97a279-9c51-4938-ac28-aa80fd46fed6",
   "metadata": {},
   "outputs": [],
   "source": []
  }
 ],
 "metadata": {
  "kernelspec": {
   "display_name": "Python 3",
   "language": "python",
   "name": "python3"
  },
  "language_info": {
   "codemirror_mode": {
    "name": "ipython",
    "version": 3
   },
   "file_extension": ".py",
   "mimetype": "text/x-python",
   "name": "python",
   "nbconvert_exporter": "python",
   "pygments_lexer": "ipython3",
   "version": "3.13.5"
  }
 },
 "nbformat": 4,
 "nbformat_minor": 5
}
