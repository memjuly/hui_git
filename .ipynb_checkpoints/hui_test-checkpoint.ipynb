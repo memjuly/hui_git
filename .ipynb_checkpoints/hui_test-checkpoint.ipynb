{
 "cells": [
  {
   "cell_type": "code",
   "execution_count": 1,
   "id": "10933802",
   "metadata": {},
   "outputs": [],
   "source": [
    "import numpy as np\n",
    "import random"
   ]
  },
  {
   "cell_type": "code",
   "execution_count": 2,
   "id": "9b5772cf",
   "metadata": {},
   "outputs": [],
   "source": [
    "a = np.random.randn(2,3)"
   ]
  },
  {
   "cell_type": "code",
   "execution_count": 3,
   "id": "c3e013ca",
   "metadata": {},
   "outputs": [
    {
     "data": {
      "text/plain": [
       "array([[ 1.32462947, -0.97514371,  1.01009841],\n",
       "       [-0.72750999,  0.82261331,  0.96881741]])"
      ]
     },
     "execution_count": 3,
     "metadata": {},
     "output_type": "execute_result"
    }
   ],
   "source": [
    "a"
   ]
  },
  {
   "cell_type": "code",
   "execution_count": 4,
   "id": "34290a12",
   "metadata": {},
   "outputs": [
    {
     "name": "stdout",
     "output_type": "stream",
     "text": [
      "(array([0, 0, 1, 1]), array([0, 2, 1, 2]))\n"
     ]
    }
   ],
   "source": [
    "b=np.where(a>0)\n",
    "print(b)"
   ]
  },
  {
   "cell_type": "code",
   "execution_count": 5,
   "id": "270d6701",
   "metadata": {},
   "outputs": [
    {
     "name": "stdout",
     "output_type": "stream",
     "text": [
      "(array([0, 0, 1, 1]), array([0, 2, 1, 2]))\n"
     ]
    }
   ],
   "source": [
    "print(b)"
   ]
  },
  {
   "cell_type": "code",
   "execution_count": 53,
   "id": "214e8428",
   "metadata": {},
   "outputs": [],
   "source": [
    "import numpy as np\n",
    "list1 = [[-1,2,0,4], [4,-3,5]]"
   ]
  },
  {
   "cell_type": "code",
   "execution_count": 54,
   "id": "837a3ed8",
   "metadata": {},
   "outputs": [],
   "source": [
    "def clear_list(x):\n",
    "    for item in x:\n",
    "        for i in item:\n",
    "            print(i)\n",
    "            index = item.index(i)\n",
    "            print(index,'xx' , i)\n",
    "            if i<=0: \n",
    "                item.pop(index)\n",
    "    return x"
   ]
  },
  {
   "cell_type": "code",
   "execution_count": 55,
   "id": "353a9c9a",
   "metadata": {},
   "outputs": [
    {
     "name": "stdout",
     "output_type": "stream",
     "text": [
      "-1\n",
      "0 xx -1\n",
      "0\n",
      "1 xx 0\n",
      "4\n",
      "0 xx 4\n",
      "-3\n",
      "1 xx -3\n"
     ]
    }
   ],
   "source": [
    "y = clear_list(list1)"
   ]
  },
  {
   "cell_type": "code",
   "execution_count": 3,
   "id": "21187933",
   "metadata": {},
   "outputs": [
    {
     "name": "stdout",
     "output_type": "stream",
     "text": [
      "[[-11, 12, 0, 14], [4, -3, 15]]\n"
     ]
    }
   ],
   "source": [
    "list1 = [[-11,12,0,14], [4,-3,15]]\n",
    "print(list1)"
   ]
  },
  {
   "cell_type": "code",
   "execution_count": 1,
   "id": "5fba798e",
   "metadata": {},
   "outputs": [],
   "source": [
    "def square_list(lst):\n",
    "    result = []\n",
    "    for inner_list in lst:\n",
    "        squared_inner_list = []\n",
    "        for element in inner_list:\n",
    "            if element >0:\n",
    "                squared_inner_list.append(element **2)\n",
    "        result.append(squared_inner_list)\n",
    "    return result"
   ]
  },
  {
   "cell_type": "code",
   "execution_count": 4,
   "id": "0c62dda5",
   "metadata": {},
   "outputs": [
    {
     "name": "stdout",
     "output_type": "stream",
     "text": [
      "[[144, 196], [16, 225]]\n"
     ]
    }
   ],
   "source": [
    "print(square_list(list1))"
   ]
  },
  {
   "cell_type": "code",
   "execution_count": null,
   "id": "14b7994a",
   "metadata": {},
   "outputs": [],
   "source": [
    "def square_element(lst):\n",
    "    "
   ]
  }
 ],
 "metadata": {
  "kernelspec": {
   "display_name": "Python 3 (ipykernel)",
   "language": "python",
   "name": "python3"
  },
  "language_info": {
   "codemirror_mode": {
    "name": "ipython",
    "version": 3
   },
   "file_extension": ".py",
   "mimetype": "text/x-python",
   "name": "python",
   "nbconvert_exporter": "python",
   "pygments_lexer": "ipython3",
   "version": "3.9.12"
  }
 },
 "nbformat": 4,
 "nbformat_minor": 5
}
